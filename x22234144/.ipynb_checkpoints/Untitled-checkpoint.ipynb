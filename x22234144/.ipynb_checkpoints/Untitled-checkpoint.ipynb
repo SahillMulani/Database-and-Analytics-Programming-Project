{
 "cells": [
  {
   "cell_type": "code",
   "execution_count": null,
   "id": "654c2e5c",
   "metadata": {},
   "outputs": [],
   "source": [
    "import csv\n",
    "import json\n",
    "\n",
    "def csv_to_json(csv_file_path, json_file_path):\n",
    "    # Read CSV file\n",
    "    with open(csv_file_path, 'r') as csv_file:\n",
    "        # Assuming the first row of the CSV file contains headers\n",
    "        csv_reader = csv.DictReader(csv_file)\n",
    "        \n",
    "        # Convert CSV data to a list of dictionaries\n",
    "        data = [row for row in csv_reader]\n",
    "\n",
    "    # Write JSON file\n",
    "    with open(json_file_path, 'w') as json_file:\n",
    "        # Use json.dump() to write the list of dictionaries to JSON\n",
    "        json.dump(data, json_file, indent=4)\n",
    "\n",
    "# Example usage\n",
    "csv_to_json('your_input.csv', 'output.json')\n"
   ]
  }
 ],
 "metadata": {
  "kernelspec": {
   "display_name": "Python 3 (ipykernel)",
   "language": "python",
   "name": "python3"
  },
  "language_info": {
   "codemirror_mode": {
    "name": "ipython",
    "version": 3
   },
   "file_extension": ".py",
   "mimetype": "text/x-python",
   "name": "python",
   "nbconvert_exporter": "python",
   "pygments_lexer": "ipython3",
   "version": "3.10.6"
  }
 },
 "nbformat": 4,
 "nbformat_minor": 5
}
